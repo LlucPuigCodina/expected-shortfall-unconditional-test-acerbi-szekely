{
 "cells": [
  {
   "cell_type": "markdown",
   "metadata": {},
   "source": [
    "# expected-shortfall-unconditional-test-acerbi-szekely\n",
    "\n",
    "`Python` implementation of the Direct Expected Shortfall Test of [Acerbi and Szekely (2014)](https://www.msci.com/documents/10199/22aa9922-f874-4060-b77a-0f0e267a489b) by Lluc Puig Codina"
   ]
  },
  {
   "cell_type": "code",
   "execution_count": 1,
   "metadata": {},
   "outputs": [],
   "source": [
    "import numpy as np\n",
    "import scipy.stats as stats\n",
    "from EStest import EStest"
   ]
  },
  {
   "cell_type": "markdown",
   "metadata": {},
   "source": [
    "## Input"
   ]
  },
  {
   "cell_type": "code",
   "execution_count": 2,
   "metadata": {},
   "outputs": [
    {
     "name": "stdout",
     "output_type": "stream",
     "text": [
      "        \n",
      "        X_obs (np.array): Numpy array of size 1xT containing the actual \n",
      "                          realization of the portfolio return.\n",
      "                          \n",
      "        X (function): Function that simulates (outputs) a realization of the \n",
      "                      portfolio return under H0: \n",
      "                      X^s = (X_1^s, X_2^s,..., X_T^s), with X_t^s ~ P_t for all\n",
      "                      t = 1 to T.\n",
      "                      Output should be a numpy array of 1xT.\n",
      "                      \n",
      "        VaRLevel (float): Number describing the level of the VaR, say 0.05 for \n",
      "                          95% or 0.01 for 99%.\n",
      "        \n",
      "        VaR (np.array): Numpy array of size 1xT containing the projected \n",
      "                        Value-at-Risk estimates for t = 1 to T at VarLevel.\n",
      "                        VaR must not be reported in its positive values, but\n",
      "                        rather in its actual values, usually negative.\n",
      "                        \n",
      "        ES (np.array): Numpy array of size 1xT containing the projected\n",
      "                       Expected Shortfall estimates for t = 1 to T at VaRLevel.\n",
      "                       ES must not be reported in its positive values, but \n",
      "                       rather in its actual values, usually negative.\n",
      "\n",
      "        nSim (int): Number of Monte Carlo simulations, scenarios, to obtain the\n",
      "                    distribution of the statistic under the null hypothesis of \n",
      "                    P_t^[VaRLevel] = F_t^[VaRLevel].\n",
      "                    \n",
      "        alpha (float): Number in [0, 1] denoting the Type I error, the \n",
      "                       significance level threshold used to compute the \n",
      "                       critical value. Default set at 5%\n",
      "                       \n",
      "        print_results (boolean): Boolean for whether results should be printed. \n",
      "        \n"
     ]
    }
   ],
   "source": [
    "print(EStest.__init__.__doc__)"
   ]
  },
  {
   "cell_type": "markdown",
   "metadata": {},
   "source": [
    "## Testing\n",
    "\n",
    "We run the test under two different scenarios. In the first one portfolio returns are generated from a T-student distribution with degrees of freedom equal to $\\nu$ = 2 but returns are assumed to follow a standard normal.\n",
    "We can observe that the Value at Risk and Expected Shortfall estimates at 95% are rejected."
   ]
  },
  {
   "cell_type": "code",
   "execution_count": 3,
   "metadata": {},
   "outputs": [
    {
     "name": "stdout",
     "output_type": "stream",
     "text": [
      "----------------------------------------------------------------\n",
      "   Direct/Unconditional Expected Shortfall Test by Simulation   \n",
      "----------------------------------------------------------------\n",
      "Number of observations: 250\n",
      "Number of VaR breaches: 27\n",
      "Expected number of VaR breaches: 12.5\n",
      "ES Statistic: -1.5893348791528705\n",
      "Expected ES Statistic: 0\n",
      "Critical Value at α = 0.05: -0.48128966742960516\n",
      "p-value: 0.0\n",
      "Number of Monte Carlo simulations: 100000\n",
      "----------------------------------------------------------------\n"
     ]
    }
   ],
   "source": [
    "np.random.seed(0) #Fix the seed for reproducible results\n",
    "\n",
    "T = 250 #Sample size\n",
    "r = 0.05 #VaRLevel\n",
    "nu = 5 #degrees of freedom for the standard t-Student\n",
    "x = np.random.standard_t(df = nu, size = T) #Realized values\n",
    "mu  = 0 #Sample mean\n",
    "sigma = 1 #Sample standard deviation mean\n",
    "\n",
    "#Simulation of returns from the assumed normal distribution\n",
    "def sim_returns(): return np.random.normal(loc = mu, scale = sigma, size = T) \n",
    "\n",
    "#Value-at-Risk estimates\n",
    "y = np.repeat(stats.norm.ppf(r, loc = mu, scale = sigma), T)\n",
    "\n",
    "#Expected Shortfall estimates\n",
    "z = stats.norm.ppf(r, loc = mu, scale = sigma) #Estimated VaR\n",
    "z = (z-mu)/sigma #Normalized VaR\n",
    "z = mu - sigma*(stats.norm.pdf(z)/stats.norm.cdf(z)) #Estimated ES\n",
    "z = np.repeat(z ,T) #ES projections\n",
    "#The procedure to compute the ES under a normal distribution can be obtained\n",
    "#here: https://stats.stackexchange.com/questions/166273/expected-value-of-x-in-a-normal-distribution-given-that-it-is-below-a-certain-v\n",
    "\n",
    "#Test Standard T-Student\n",
    "test_student = EStest(X_obs = x, X = sim_returns, VaRLevel = r, VaR = y,\n",
    "                    ES = z, nSim = 100000, print_results = True) \n",
    "#one-hundred-thousand Monte-Carlo simulations"
   ]
  },
  {
   "cell_type": "markdown",
   "metadata": {},
   "source": [
    "In the second case both portfolio returns and the estimated return distribution follow a standard normal. \n",
    "We can observe that the Value at Risk and Expected Shortfall estimates at 95% are not rejected."
   ]
  },
  {
   "cell_type": "code",
   "execution_count": 4,
   "metadata": {},
   "outputs": [
    {
     "name": "stdout",
     "output_type": "stream",
     "text": [
      "----------------------------------------------------------------\n",
      "   Direct/Unconditional Expected Shortfall Test by Simulation   \n",
      "----------------------------------------------------------------\n",
      "Number of observations: 250\n",
      "Number of VaR breaches: 7\n",
      "Expected number of VaR breaches: 12.5\n",
      "ES Statistic: 0.47382594246166465\n",
      "Expected ES Statistic: 0\n",
      "Critical Value at α = 0.05: -0.4825457500990175\n",
      "p-value: 0.96274\n",
      "Number of Monte Carlo simulations: 100000\n",
      "----------------------------------------------------------------\n"
     ]
    }
   ],
   "source": [
    "#Standard Normal simulation\n",
    "p = np.random.normal(size = T)\n",
    "\n",
    "#Test Standard Normal\n",
    "test_normal = EStest(X_obs = p, X = sim_returns, VaRLevel = r, VaR = y,\n",
    "                    ES = z, nSim = 100000, print_results = True) "
   ]
  },
  {
   "cell_type": "markdown",
   "metadata": {},
   "source": [
    "## References\n",
    "\n",
    "Acerbi, Carlo, and Balazs Szekely. \"Back-testing expected shortfall.\" *Risk* 27.11 (2014): 76-81."
   ]
  }
 ],
 "metadata": {
  "kernelspec": {
   "display_name": "Python 3",
   "language": "python",
   "name": "python3"
  },
  "language_info": {
   "codemirror_mode": {
    "name": "ipython",
    "version": 3
   },
   "file_extension": ".py",
   "mimetype": "text/x-python",
   "name": "python",
   "nbconvert_exporter": "python",
   "pygments_lexer": "ipython3",
   "version": "3.7.3"
  }
 },
 "nbformat": 4,
 "nbformat_minor": 2
}
