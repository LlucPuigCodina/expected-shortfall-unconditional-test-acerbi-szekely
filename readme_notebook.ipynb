{
 "cells": [
  {
   "cell_type": "markdown",
   "metadata": {},
   "source": [
    "# expected-shortfall-unconditional-test-acerbi-szekely\n",
    "\n",
    "`Python` implementation of the Direct Expected Shortfall Test of [Acerbi and Szekely (2014)](https://www.msci.com/documents/10199/22aa9922-f874-4060-b77a-0f0e267a489b) by Lluc Puig Codina"
   ]
  },
  {
   "cell_type": "code",
   "execution_count": 10,
   "metadata": {},
   "outputs": [],
   "source": [
    "import numpy as np\n",
    "import scipy.stats as stats\n",
    "from EStest import EStest"
   ]
  },
  {
   "cell_type": "markdown",
   "metadata": {},
   "source": [
    "## Input"
   ]
  },
  {
   "cell_type": "code",
   "execution_count": 11,
   "metadata": {
    "scrolled": true
   },
   "outputs": [
    {
     "name": "stdout",
     "output_type": "stream",
     "text": [
      "        \n",
      "        X_obs (np.array): Numpy array of size 1xT containing the actual \n",
      "                          realization of the portfolio return.\n",
      "                          \n",
      "        X (function): Function that simulates (outputs) a realization of the \n",
      "                      portfolio return under H0: \n",
      "                      X^s = (X_1^s, X_2^s,..., X_T^s), with X_t^s ~ P_t for all\n",
      "                      t = 1 to T.\n",
      "                      Output should be a numpy array of 1xT.\n",
      "                      \n",
      "        VaRLevel (float): Number describing the level of the VaR, say 0.05 for \n",
      "                          95% or 0.01 for 99%.\n",
      "        \n",
      "        VaR (np.array): Numpy array of size 1xT containing the projected \n",
      "                        Value-at-Risk estimates for t = 1 to T at VarLevel.\n",
      "                        VaR must not be reported in its positive values, but\n",
      "                        rather in its actual values, usually negative.\n",
      "                        \n",
      "        ES (np.array): Numpy array of size 1xT containing the projected\n",
      "                       Expected Shortfall estimates for t = 1 to T at VaRLevel.\n",
      "                       ES must not be reported in its positive values, but \n",
      "                       rather in its actual values, usually negative.\n",
      "\n",
      "        nSim (int): Number of Monte Carlo simulations, scenarios, to obtain the\n",
      "                    distribution of the statistic under the null hypothesis of \n",
      "                    P_t^[VaRLevel] = F_t^[VaRLevel].\n",
      "                    \n",
      "        alpha (float): Number in [0, 1] denoting the Type I error, the \n",
      "                       significance level threshold used to compute the \n",
      "                       critical value. Default set at 5% \n",
      "        \n"
     ]
    }
   ],
   "source": [
    "print(EStest.__init__.__doc__)"
   ]
  },
  {
   "cell_type": "markdown",
   "metadata": {},
   "source": [
    "## Examples\n",
    "\n",
    "We run the test under two different scenarios. In the first scenario the portfolio returns are generated from a normal distribution mixture such that there is a bump in the left tail compared to a normal distribution. In the second case the portfolio returns are generated form a normal.\n",
    "\n",
    "Then returns are always assumed to follow a normal distribution with the sample mean and variance. We can observe that the Value at Risk and Expected Shortfall estimates at 95% are strongly rejected in the first case but not in the second case.\n",
    "\n",
    "### Test 1\n",
    "$$\n",
    "TDGP: r_t \\sim \\ \\ \\text{i.i.d} \\ \\ \\mathbb{1}\\{\\phi_t = 0\\} \\mathcal{N}(\\mu_{standard}, \\sigma_{stress}) + \\mathbb{1}\\{\\phi_t = 1\\} \\mathcal{N}(\\mu_{stress}, \\sigma_{stress})\n",
    "$$\n",
    "where $\\phi_t \\sim$ i.i.d $Bernoulli(p)$.\n",
    "\n",
    "$$\n",
    "Model: r_t \\sim \\ \\ \\text{i.i.d} \\ \\ \\mathcal{N}(\\hat{\\mu}, \\hat{\\sigma})\n",
    "$$"
   ]
  },
  {
   "cell_type": "code",
   "execution_count": 12,
   "metadata": {},
   "outputs": [],
   "source": [
    "np.random.seed(0) #Fix the seed for reproducible results\n",
    "\n",
    "T = 3000 #Sample size of three thousand\n",
    "r = 0.05 #VaRLevel\n",
    "p_stress = 0.03 #Stress scenario probability\n",
    "standard_mu  = 0.03 #mean for standard times\n",
    "standard_sigma = 0.1 #standard deviation for standard times\n",
    "stress_mu  = -0.32 #mean for stress times\n",
    "stress_sigma = 0.03 #standard deviation for stress times\n",
    "\n",
    "u =np.random.binomial(size=T, n=1, p= p_stress) #Stress indicator\n",
    "standard = np.random.normal(loc = standard_mu, scale = standard_sigma, size = T) #PnL under standard times\n",
    "stress =  np.random.normal(loc = stress_mu, scale = stress_sigma, size = T) #PnL under stress times\n",
    "x = (np.ones(T)-u)*standard + u*stress #PnL realization\n",
    "\n",
    "#Simulation of returns from the assumed normal distribution\n",
    "sample_mu = np.mean(x)\n",
    "sample_sigma = np.std(x)\n",
    "def sim_returns(): return np.random.normal(loc = sample_mu, scale = sample_sigma, size = T) \n",
    "\n",
    "#Value-at-Risk estimates\n",
    "k = np.repeat(stats.norm.ppf(r, loc = sample_mu, scale = sample_sigma), T)\n",
    "\n",
    "#Expected Shortfall estimates\n",
    "z = stats.norm.ppf(r, loc = sample_mu, scale = sample_sigma) #Estimated VaR\n",
    "z = (z-sample_mu)/sample_sigma #Normalized VaR\n",
    "z = sample_mu - sample_sigma*(stats.norm.pdf(z)/stats.norm.cdf(z)) #Estimated ES\n",
    "z = np.repeat(z ,T) #ES projections\n",
    "#The procedure to compute the ES under a normal distribution can be obtained\n",
    "#here: https://stats.stackexchange.com/questions/166273/expected-value-of-x-in-a-normal-distribution-given-that-it-is-below-a-certain-v"
   ]
  },
  {
   "cell_type": "code",
   "execution_count": 13,
   "metadata": {
    "scrolled": true
   },
   "outputs": [
    {
     "name": "stderr",
     "output_type": "stream",
     "text": [
      "C:\\Anaconda3\\lib\\site-packages\\ipykernel_launcher.py:8: MatplotlibDeprecationWarning: scipy.stats.norm.pdf\n",
      "  \n"
     ]
    },
    {
     "data": {
      "image/png": "[encoded data removed]",
      "text/plain": [
       "<Figure size 432x288 with 1 Axes>"
      ]
     },
     "metadata": {
      "needs_background": "light"
     },
     "output_type": "display_data"
    }
   ],
   "source": [
    "from scipy.stats import norm\n",
    "import matplotlib.mlab as mlab\n",
    "import matplotlib.pyplot as plt\n",
    "\n",
    "n, bins, patches = plt.hist(x, bins=80, density = True, color='#0504aa',\n",
    "                            alpha=0.7, rwidth=0.85)\n",
    "\n",
    "y = mlab.normpdf(bins, sample_mu, sample_sigma)\n",
    "l = plt.plot(bins, y, 'r--', linewidth=2)\n",
    "\n",
    "plt.grid(axis='y', alpha=0.75)\n",
    "plt.title('Realized PnL')\n",
    "plt.show()"
   ]
  },
  {
   "cell_type": "code",
   "execution_count": 14,
   "metadata": {},
   "outputs": [
    {
     "name": "stdout",
     "output_type": "stream",
     "text": [
      "----------------------------------------------------------------\n",
      "   Direct/Unconditional Expected Shortfall Test by Simulation   \n",
      "----------------------------------------------------------------\n",
      "Number of observations: 3000\n",
      "Number of VaR breaches: 156\n",
      "Expected number of VaR breaches: 150.0\n",
      "ES Statistic: -0.29866795648622135\n",
      "Expected ES Statistic under the null hypothesis: 0\n",
      "Critical Value at α = 0.05: -0.13457639121094353\n",
      "p-value: 0.00018\n",
      "Number of Monte Carlo simulations: 100000\n",
      "----------------------------------------------------------------\n"
     ]
    }
   ],
   "source": [
    "test1 = EStest(X_obs = x, X = sim_returns, VaRLevel = r, VaR = k, ES = z, nSim = 100000)\n",
    "test1.print()"
   ]
  },
  {
   "cell_type": "markdown",
   "metadata": {},
   "source": [
    "### Test 2\n",
    "\n",
    "$$\n",
    "TDGP: r_t \\sim \\ \\ \\text{i.i.d} \\ \\ \\mathcal{N}(\\mu_{standard}, \\sigma_{standard})\n",
    "$$\n",
    "\n",
    "$$\n",
    "Model: r_t \\sim \\ \\ \\text{i.i.d} \\ \\ \\mathcal{N}(\\hat{\\mu}, \\hat{\\sigma})\n",
    "$$"
   ]
  },
  {
   "cell_type": "code",
   "execution_count": 15,
   "metadata": {},
   "outputs": [],
   "source": [
    "#Simulation of returns from the assumed normal distribution\n",
    "sample_mu = np.mean(standard)\n",
    "sample_sigma = np.std(standard)\n",
    "def sim_returns(): return np.random.normal(loc = sample_mu, scale = sample_sigma, size = T) \n",
    "\n",
    "#Value-at-Risk estimates\n",
    "k = np.repeat(stats.norm.ppf(r, loc = sample_mu, scale = sample_sigma), T)\n",
    "\n",
    "#Expected Shortfall estimates\n",
    "z = stats.norm.ppf(r, loc = sample_mu, scale = sample_sigma) #Estimated VaR\n",
    "z = (z-sample_mu)/sample_sigma #Normalized VaR\n",
    "z = sample_mu - sample_sigma*(stats.norm.pdf(z)/stats.norm.cdf(z)) #Estimated ES\n",
    "z = np.repeat(z ,T) #ES projections"
   ]
  },
  {
   "cell_type": "code",
   "execution_count": 16,
   "metadata": {},
   "outputs": [
    {
     "name": "stderr",
     "output_type": "stream",
     "text": [
      "C:\\Anaconda3\\lib\\site-packages\\ipykernel_launcher.py:8: MatplotlibDeprecationWarning: scipy.stats.norm.pdf\n",
      "  \n"
     ]
    },
    {
     "data": {
      "image/png": "[encoded data removed]",
      "text/plain": [
       "<Figure size 432x288 with 1 Axes>"
      ]
     },
     "metadata": {
      "needs_background": "light"
     },
     "output_type": "display_data"
    }
   ],
   "source": [
    "from scipy.stats import norm\n",
    "import matplotlib.mlab as mlab\n",
    "import matplotlib.pyplot as plt\n",
    "\n",
    "n, bins, patches = plt.hist(standard, bins=80, density = True, color='#0504aa',\n",
    "                            alpha=0.7, rwidth=0.85)\n",
    "\n",
    "y = mlab.normpdf(bins, sample_mu, sample_sigma)\n",
    "l = plt.plot(bins, y, 'r--', linewidth=2)\n",
    "\n",
    "plt.grid(axis='y', alpha=0.75)\n",
    "plt.title('Realized PnL')\n",
    "plt.show()"
   ]
  },
  {
   "cell_type": "code",
   "execution_count": 17,
   "metadata": {},
   "outputs": [
    {
     "name": "stdout",
     "output_type": "stream",
     "text": [
      "----------------------------------------------------------------\n",
      "   Direct/Unconditional Expected Shortfall Test by Simulation   \n",
      "----------------------------------------------------------------\n",
      "Number of observations: 3000\n",
      "Number of VaR breaches: 144\n",
      "Expected number of VaR breaches: 150.0\n",
      "ES Statistic: 0.05483829919134353\n",
      "Expected ES Statistic under the null hypothesis: 0\n",
      "Critical Value at α = 0.05: -0.13637369487936757\n",
      "p-value: 0.74721\n",
      "Number of Monte Carlo simulations: 100000\n",
      "----------------------------------------------------------------\n"
     ]
    }
   ],
   "source": [
    "test1 = EStest(X_obs = standard, X = sim_returns, VaRLevel = r, VaR = k, ES = z, nSim = 100000)\n",
    "test1.print()"
   ]
  },
  {
   "cell_type": "markdown",
   "metadata": {},
   "source": [
    "## References\n",
    "\n",
    "Acerbi, Carlo, and Balazs Szekely. \"Back-testing expected shortfall.\" *Risk* 27.11 (2014): 76-81."
   ]
  }
 ],
 "metadata": {
  "anaconda-cloud": {},
  "kernelspec": {
   "display_name": "Python [default]",
   "language": "python",
   "name": "python3"
  },
  "language_info": {
   "codemirror_mode": {
    "name": "ipython",
    "version": 3
   },
   "file_extension": ".py",
   "mimetype": "text/x-python",
   "name": "python",
   "nbconvert_exporter": "python",
   "pygments_lexer": "ipython3",
   "version": "3.6.8"
  }
 },
 "nbformat": 4,
 "nbformat_minor": 2
}
